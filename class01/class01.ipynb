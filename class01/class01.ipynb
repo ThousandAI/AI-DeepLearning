{
  "nbformat": 4,
  "nbformat_minor": 0,
  "metadata": {
    "colab": {
      "name": "class01.ipynb",
      "provenance": [],
      "collapsed_sections": [],
      "authorship_tag": "ABX9TyNr9zuKsZD/ldD5qKCC4w2S",
      "include_colab_link": true
    },
    "kernelspec": {
      "name": "python3",
      "display_name": "Python 3"
    },
    "language_info": {
      "name": "python"
    },
    "accelerator": "GPU",
    "gpuClass": "standard"
  },
  "cells": [
    {
      "cell_type": "markdown",
      "metadata": {
        "id": "view-in-github",
        "colab_type": "text"
      },
      "source": [
        "<a href=\"https://colab.research.google.com/github/ThousandAI/Application-of-AI/blob/main/class01/class01.ipynb\" target=\"_parent\"><img src=\"https://colab.research.google.com/assets/colab-badge.svg\" alt=\"Open In Colab\"/></a>"
      ]
    },
    {
      "cell_type": "markdown",
      "source": [
        "# Pytorch Basics"
      ],
      "metadata": {
        "id": "YKVfzpqnphJF"
      }
    },
    {
      "cell_type": "code",
      "source": [
        "import torch\n",
        "import numpy as np"
      ],
      "metadata": {
        "id": "YBZKbMxKpfZL"
      },
      "execution_count": 1,
      "outputs": []
    },
    {
      "cell_type": "code",
      "source": [
        "tensor = torch.rand(2,3)\n",
        "matrix = np.random.rand(2,3)\n",
        "print(f\"Tensor:\\n {tensor}\")\n",
        "print(f\"Matrix:\\n {matrix}\")"
      ],
      "metadata": {
        "id": "So96nK2Rp20v",
        "colab": {
          "base_uri": "https://localhost:8080/"
        },
        "outputId": "49af80bc-7212-4eb4-f5b3-978386c2e5d3"
      },
      "execution_count": 2,
      "outputs": [
        {
          "output_type": "stream",
          "name": "stdout",
          "text": [
            "Tensor:\n",
            " tensor([[7.9238e-01, 2.1184e-01, 6.4969e-05],\n",
            "        [3.8380e-02, 4.0757e-01, 8.9598e-01]])\n",
            "Matrix:\n",
            " [[0.936506   0.23812525 0.53562868]\n",
            " [0.50217936 0.23938692 0.60093513]]\n"
          ]
        }
      ]
    },
    {
      "cell_type": "code",
      "source": [
        "tensor = torch.zeros(2,3)\n",
        "matrix = np.zeros((2,3))\n",
        "print(f\"Tensor:\\n {tensor}\")\n",
        "print(f\"Matrix:\\n {matrix}\")"
      ],
      "metadata": {
        "id": "BhEDziwjpcU8",
        "colab": {
          "base_uri": "https://localhost:8080/"
        },
        "outputId": "4915d5ef-7afc-4744-8989-72c9b688b314"
      },
      "execution_count": 3,
      "outputs": [
        {
          "output_type": "stream",
          "name": "stdout",
          "text": [
            "Tensor:\n",
            " tensor([[0., 0., 0.],\n",
            "        [0., 0., 0.]])\n",
            "Matrix:\n",
            " [[0. 0. 0.]\n",
            " [0. 0. 0.]]\n"
          ]
        }
      ]
    },
    {
      "cell_type": "code",
      "source": [
        "tensor = torch.ones(2,3)\n",
        "matrix = np.ones((2,3))\n",
        "print(f\"Tensor:\\n {tensor}\")\n",
        "print(f\"Matrix:\\n {matrix}\")"
      ],
      "metadata": {
        "colab": {
          "base_uri": "https://localhost:8080/"
        },
        "id": "l8B6077ktgMj",
        "outputId": "5ec6b81d-8ad7-4793-b7de-f140e690bdff"
      },
      "execution_count": 4,
      "outputs": [
        {
          "output_type": "stream",
          "name": "stdout",
          "text": [
            "Tensor:\n",
            " tensor([[1., 1., 1.],\n",
            "        [1., 1., 1.]])\n",
            "Matrix:\n",
            " [[1. 1. 1.]\n",
            " [1. 1. 1.]]\n"
          ]
        }
      ]
    },
    {
      "cell_type": "code",
      "source": [
        "print(f\"Tensor:\\n {tensor.dtype}\")\n",
        "print(f\"Matrix:\\n {matrix.dtype}\")"
      ],
      "metadata": {
        "colab": {
          "base_uri": "https://localhost:8080/"
        },
        "id": "Lh8wntDetsLQ",
        "outputId": "9d121054-8554-45f6-ce77-593bd39f6a2d"
      },
      "execution_count": 5,
      "outputs": [
        {
          "output_type": "stream",
          "name": "stdout",
          "text": [
            "Tensor:\n",
            " torch.float32\n",
            "Matrix:\n",
            " float64\n"
          ]
        }
      ]
    },
    {
      "cell_type": "code",
      "source": [
        "print(f\"Tensor:\\n {tensor.size()}\")\n",
        "print(f\"Tensor:\\n {tensor.shape}\")\n",
        "print(f\"Matrix:\\n {matrix.shape}\")"
      ],
      "metadata": {
        "colab": {
          "base_uri": "https://localhost:8080/"
        },
        "id": "LfkEtQpbtwpG",
        "outputId": "bf58a605-9249-4ab2-f01a-1d6fc62e1835"
      },
      "execution_count": 6,
      "outputs": [
        {
          "output_type": "stream",
          "name": "stdout",
          "text": [
            "Tensor:\n",
            " torch.Size([2, 3])\n",
            "Tensor:\n",
            " torch.Size([2, 3])\n",
            "Matrix:\n",
            " (2, 3)\n"
          ]
        }
      ]
    },
    {
      "cell_type": "code",
      "source": [
        "# list to torch\n",
        "tensor = torch.tensor([2.3, 1.2, 5.7])\n",
        "print(f\"Tensor:\\n {tensor.size()}\")\n",
        "\n",
        "# list to numpy\n",
        "matrix = np.array([2.3, 1.2, 5.7])\n",
        "print(f\"Matrix:\\n {matrix.shape}\")"
      ],
      "metadata": {
        "colab": {
          "base_uri": "https://localhost:8080/"
        },
        "id": "TJGSeu0kuivm",
        "outputId": "1b73217c-854d-4402-e72b-6816dc554102"
      },
      "execution_count": 7,
      "outputs": [
        {
          "output_type": "stream",
          "name": "stdout",
          "text": [
            "Tensor:\n",
            " torch.Size([3])\n",
            "Matrix:\n",
            " (3,)\n"
          ]
        }
      ]
    },
    {
      "cell_type": "code",
      "source": [
        "# numpy <=> torch\n",
        "tensor = torch.tensor([1, 2, 3])\n",
        "matrix = np.array([1, 2, 3])\n",
        "print(torch.from_numpy(matrix))\n",
        "print(tensor.numpy())"
      ],
      "metadata": {
        "colab": {
          "base_uri": "https://localhost:8080/"
        },
        "id": "123bMdWuv0lD",
        "outputId": "d5ab21a3-0347-4c9f-e457-d4319e143f2e"
      },
      "execution_count": 8,
      "outputs": [
        {
          "output_type": "stream",
          "name": "stdout",
          "text": [
            "tensor([1, 2, 3])\n",
            "[1 2 3]\n"
          ]
        }
      ]
    },
    {
      "cell_type": "code",
      "source": [
        "# call by reference\n",
        "tensor = torch.tensor([1, 2, 3])\n",
        "matrix = tensor.numpy()\n",
        "\n",
        "tensor += 1\n",
        "print(tensor)\n",
        "print(matrix)"
      ],
      "metadata": {
        "colab": {
          "base_uri": "https://localhost:8080/"
        },
        "id": "8XDVRzqdz4Rq",
        "outputId": "7540c147-288b-4935-fac3-ed67168f1d43"
      },
      "execution_count": 9,
      "outputs": [
        {
          "output_type": "stream",
          "name": "stdout",
          "text": [
            "tensor([2, 3, 4])\n",
            "[2 3 4]\n"
          ]
        }
      ]
    },
    {
      "cell_type": "code",
      "source": [
        "# operator \n",
        "t1 = torch.tensor([2.3, 1.2, 5.7])\n",
        "t2 = torch.tensor([3.2, 2.8, 7.8])\n",
        "print(torch.add(t1, t2)) # t1 + t2\n",
        "print(torch.add(t1, t2)) # t1 - t2\n",
        "print(torch.mul(t1, t2)) # t1 * t2\n",
        "print(torch.div(t1, t2)) # t1 / t2"
      ],
      "metadata": {
        "colab": {
          "base_uri": "https://localhost:8080/"
        },
        "id": "7a6i_iIEurKD",
        "outputId": "4f33d36f-c533-440f-8199-5a2f3271e201"
      },
      "execution_count": 10,
      "outputs": [
        {
          "output_type": "stream",
          "name": "stdout",
          "text": [
            "tensor([ 5.5000,  4.0000, 13.5000])\n",
            "tensor([ 5.5000,  4.0000, 13.5000])\n",
            "tensor([ 7.3600,  3.3600, 44.4600])\n",
            "tensor([0.7188, 0.4286, 0.7308])\n"
          ]
        }
      ]
    },
    {
      "cell_type": "code",
      "source": [
        "# slice\n",
        "tensor = torch.rand(5,3)\n",
        "print(tensor)\n",
        "print(tensor[:,1:3])\n",
        "print(tensor[1,1].item())"
      ],
      "metadata": {
        "colab": {
          "base_uri": "https://localhost:8080/"
        },
        "id": "yX-lEmJJvKh-",
        "outputId": "712f8b9b-f763-441d-dd0a-9d87c2e24956"
      },
      "execution_count": 11,
      "outputs": [
        {
          "output_type": "stream",
          "name": "stdout",
          "text": [
            "tensor([[0.0975, 0.4026, 0.7074],\n",
            "        [0.1463, 0.7168, 0.7415],\n",
            "        [0.1243, 0.0133, 0.6769],\n",
            "        [0.5864, 0.7550, 0.0732],\n",
            "        [0.3886, 0.4852, 0.3933]])\n",
            "tensor([[0.4026, 0.7074],\n",
            "        [0.7168, 0.7415],\n",
            "        [0.0133, 0.6769],\n",
            "        [0.7550, 0.0732],\n",
            "        [0.4852, 0.3933]])\n",
            "0.716823399066925\n"
          ]
        }
      ]
    },
    {
      "cell_type": "code",
      "source": [
        "# view\n",
        "tensor = torch.rand(2,6)\n",
        "print(tensor)\n",
        "print(tensor.view(3,4))\n",
        "print(tensor.view(12))\n",
        "print(tensor.view(12,1))\n",
        "print(tensor.view(1,12))\n",
        "print(tensor.view(-1,3))"
      ],
      "metadata": {
        "colab": {
          "base_uri": "https://localhost:8080/"
        },
        "id": "N7KgWhiXvZGO",
        "outputId": "2650dfad-7691-4c53-dbb8-634640b3e8a1"
      },
      "execution_count": 12,
      "outputs": [
        {
          "output_type": "stream",
          "name": "stdout",
          "text": [
            "tensor([[0.9594, 0.3548, 0.9751, 0.5854, 0.6431, 0.8459],\n",
            "        [0.8374, 0.4420, 0.2574, 0.1708, 0.4292, 0.1682]])\n",
            "tensor([[0.9594, 0.3548, 0.9751, 0.5854],\n",
            "        [0.6431, 0.8459, 0.8374, 0.4420],\n",
            "        [0.2574, 0.1708, 0.4292, 0.1682]])\n",
            "tensor([0.9594, 0.3548, 0.9751, 0.5854, 0.6431, 0.8459, 0.8374, 0.4420, 0.2574,\n",
            "        0.1708, 0.4292, 0.1682])\n",
            "tensor([[0.9594],\n",
            "        [0.3548],\n",
            "        [0.9751],\n",
            "        [0.5854],\n",
            "        [0.6431],\n",
            "        [0.8459],\n",
            "        [0.8374],\n",
            "        [0.4420],\n",
            "        [0.2574],\n",
            "        [0.1708],\n",
            "        [0.4292],\n",
            "        [0.1682]])\n",
            "tensor([[0.9594, 0.3548, 0.9751, 0.5854, 0.6431, 0.8459, 0.8374, 0.4420, 0.2574,\n",
            "         0.1708, 0.4292, 0.1682]])\n",
            "tensor([[0.9594, 0.3548, 0.9751],\n",
            "        [0.5854, 0.6431, 0.8459],\n",
            "        [0.8374, 0.4420, 0.2574],\n",
            "        [0.1708, 0.4292, 0.1682]])\n"
          ]
        }
      ]
    },
    {
      "cell_type": "code",
      "source": [
        "# GPU\n",
        "print(torch.cuda.is_available())\n",
        "# if torch.cuda.is_available():\n",
        "#   device = torch.device(\"cuda\")\n",
        "\n",
        "device = torch.device(\"cuda\" if torch.cuda.is_available() else \"cpu\")\n",
        "\n",
        "x = torch.rand(3,2).to(device)\n",
        "print(x)\n",
        "x = x.to(\"cpu\")\n",
        "print(x)"
      ],
      "metadata": {
        "colab": {
          "base_uri": "https://localhost:8080/"
        },
        "id": "1qBB_1bDzhYU",
        "outputId": "74269d20-4027-4f66-c7cd-8e71b7bdd8a2"
      },
      "execution_count": 15,
      "outputs": [
        {
          "output_type": "stream",
          "name": "stdout",
          "text": [
            "True\n",
            "tensor([[0.1159, 0.0656],\n",
            "        [0.9751, 0.0762],\n",
            "        [0.6860, 0.5650]], device='cuda:0')\n",
            "tensor([[0.1159, 0.0656],\n",
            "        [0.9751, 0.0762],\n",
            "        [0.6860, 0.5650]])\n"
          ]
        }
      ]
    }
  ]
}