{
  "nbformat": 4,
  "nbformat_minor": 0,
  "metadata": {
    "colab": {
      "name": "class01.ipynb",
      "provenance": [],
      "authorship_tag": "ABX9TyPxIJ/tkpP/4WPaExoGjqhR",
      "include_colab_link": true
    },
    "kernelspec": {
      "name": "python3",
      "display_name": "Python 3"
    },
    "language_info": {
      "name": "python"
    },
    "accelerator": "GPU",
    "gpuClass": "standard"
  },
  "cells": [
    {
      "cell_type": "markdown",
      "metadata": {
        "id": "view-in-github",
        "colab_type": "text"
      },
      "source": [
        "<a href=\"https://colab.research.google.com/github/ThousandAI/Application-of-AI/blob/main/class01.ipynb\" target=\"_parent\"><img src=\"https://colab.research.google.com/assets/colab-badge.svg\" alt=\"Open In Colab\"/></a>"
      ]
    },
    {
      "cell_type": "code",
      "execution_count": null,
      "metadata": {
        "id": "zj6lEkW-RWJ_"
      },
      "outputs": [],
      "source": [
        "import torch\n",
        "import numpy as np"
      ]
    },
    {
      "cell_type": "code",
      "source": [
        "tensor = torch.rand(2,3)\n",
        "matrix = np.random.rand(2,3)\n",
        "print(f\"Tensor:\\n {tensor}\")\n",
        "print(f\"Matrix:\\n {matrix}\")"
      ],
      "metadata": {
        "colab": {
          "base_uri": "https://localhost:8080/"
        },
        "id": "xYKhTvT7SlP9",
        "outputId": "fe818a57-2dcd-4c3e-f98f-02bd0ac96dfa"
      },
      "execution_count": null,
      "outputs": [
        {
          "output_type": "stream",
          "name": "stdout",
          "text": [
            "Tensor:\n",
            " tensor([[0.4371, 0.1499, 0.2478],\n",
            "        [0.3363, 0.9650, 0.6333]])\n",
            "Matrix:\n",
            " [[0.19804326 0.91745895 0.66919999]\n",
            " [0.30951929 0.90015687 0.38313896]]\n"
          ]
        }
      ]
    },
    {
      "cell_type": "code",
      "source": [
        "tensor = torch.zeros(2,3)\n",
        "matrix = np.zeros((2,3))\n",
        "print(f\"Tensor:\\n {tensor}\")\n",
        "print(f\"Matrix:\\n {matrix}\")"
      ],
      "metadata": {
        "colab": {
          "base_uri": "https://localhost:8080/"
        },
        "id": "qXIDvh-7TUM3",
        "outputId": "b83795dc-8909-4d3f-ca8e-3017309002f4"
      },
      "execution_count": null,
      "outputs": [
        {
          "output_type": "stream",
          "name": "stdout",
          "text": [
            "Tensor:\n",
            " tensor([[0., 0., 0.],\n",
            "        [0., 0., 0.]])\n",
            "Matrix:\n",
            " [[0. 0. 0.]\n",
            " [0. 0. 0.]]\n"
          ]
        }
      ]
    },
    {
      "cell_type": "code",
      "source": [
        "tensor = torch.ones(2,3)\n",
        "matrix = np.ones((2,3))\n",
        "print(f\"Tensor:\\n {tensor}\")\n",
        "print(f\"Matrix:\\n {matrix}\")"
      ],
      "metadata": {
        "colab": {
          "base_uri": "https://localhost:8080/"
        },
        "id": "k1MA8biwTmmS",
        "outputId": "e8d501a0-5087-4a07-8d50-9cf639f12fc2"
      },
      "execution_count": null,
      "outputs": [
        {
          "output_type": "stream",
          "name": "stdout",
          "text": [
            "Tensor:\n",
            " tensor([[1., 1., 1.],\n",
            "        [1., 1., 1.]])\n",
            "Matrix:\n",
            " [[1. 1. 1.]\n",
            " [1. 1. 1.]]\n"
          ]
        }
      ]
    },
    {
      "cell_type": "code",
      "source": [
        "print(f\"Tensor:\\n {tensor.dtype}\")\n",
        "print(f\"Matrix:\\n {matrix.dtype}\")"
      ],
      "metadata": {
        "colab": {
          "base_uri": "https://localhost:8080/"
        },
        "id": "g2JcHiwbTyJe",
        "outputId": "7e89a593-d9e9-41ed-b9f8-5c2e94642b07"
      },
      "execution_count": null,
      "outputs": [
        {
          "output_type": "stream",
          "name": "stdout",
          "text": [
            "Tensor:\n",
            " torch.float32\n",
            "Matrix:\n",
            " float64\n"
          ]
        }
      ]
    },
    {
      "cell_type": "code",
      "source": [
        "print(f\"Tensor:\\n {tensor.size()}\")\n",
        "print(f\"Tensor:\\n {tensor.shape}\")\n",
        "print(f\"Matrix:\\n {matrix.shape}\")"
      ],
      "metadata": {
        "colab": {
          "base_uri": "https://localhost:8080/"
        },
        "id": "zY7183jVT219",
        "outputId": "888bc983-38dc-466f-ced7-8f682dafc163"
      },
      "execution_count": null,
      "outputs": [
        {
          "output_type": "stream",
          "name": "stdout",
          "text": [
            "Tensor:\n",
            " torch.Size([2, 3])\n",
            "Tensor:\n",
            " torch.Size([2, 3])\n",
            "Matrix:\n",
            " (2, 3)\n"
          ]
        }
      ]
    },
    {
      "cell_type": "code",
      "source": [
        "# list to torch\n",
        "tensor = torch.tensor([2.3, 1.2, 5.7])\n",
        "print(f\"Tensor:\\n {tensor.size()}\")\n",
        "\n",
        "# list to numpy\n",
        "matrix = np.array([2.3, 1.2, 5.7])\n",
        "print(f\"Matrix:\\n {matrix.shape}\")"
      ],
      "metadata": {
        "colab": {
          "base_uri": "https://localhost:8080/"
        },
        "id": "C-06Pr4_T-08",
        "outputId": "341781a4-46a0-44cc-cf3f-25a6f939c62a"
      },
      "execution_count": null,
      "outputs": [
        {
          "output_type": "stream",
          "name": "stdout",
          "text": [
            "Tensor:\n",
            " torch.Size([3])\n",
            "Matrix:\n",
            " (3,)\n"
          ]
        }
      ]
    },
    {
      "cell_type": "code",
      "source": [
        "# numpy <=> torch\n",
        "tensor = torch.tensor([1, 2, 3])\n",
        "matrix = np.array([1, 2, 3])\n",
        "print(torch.from_numpy(matrix))\n",
        "print(tensor.numpy())"
      ],
      "metadata": {
        "colab": {
          "base_uri": "https://localhost:8080/"
        },
        "id": "gUIZfe7fUlUf",
        "outputId": "f5a21c63-c472-4bcf-ed1a-3cbd288f93c8"
      },
      "execution_count": null,
      "outputs": [
        {
          "output_type": "stream",
          "name": "stdout",
          "text": [
            "tensor([1, 2, 3])\n",
            "[1 2 3]\n"
          ]
        }
      ]
    },
    {
      "cell_type": "code",
      "source": [
        "# call by reference\n",
        "tensor = torch.tensor([1, 2, 3])\n",
        "matrix = tensor.numpy()\n",
        "\n",
        "tensor += 1\n",
        "print(tensor)\n",
        "print(matrix)"
      ],
      "metadata": {
        "colab": {
          "base_uri": "https://localhost:8080/"
        },
        "id": "-pK0eUw-WMzI",
        "outputId": "3b57968d-deee-416d-e240-7e0139a5c846"
      },
      "execution_count": null,
      "outputs": [
        {
          "output_type": "stream",
          "name": "stdout",
          "text": [
            "tensor([2, 3, 4])\n",
            "[2 3 4]\n"
          ]
        }
      ]
    },
    {
      "cell_type": "code",
      "source": [
        "# operator \n",
        "t1 = torch.tensor([2.3, 1.2, 5.7])\n",
        "t2 = torch.tensor([3.2, 2.8, 7.8])\n",
        "print(torch.add(t1, t2)) # t1 + t2\n",
        "print(torch.sub(t1, t2)) # t1 - t2\n",
        "print(torch.mul(t1, t2)) # t1 * t2\n",
        "print(torch.div(t1, t2)) # t1 / t2"
      ],
      "metadata": {
        "colab": {
          "base_uri": "https://localhost:8080/"
        },
        "id": "PojRPAdEWPdp",
        "outputId": "cd8c6a0b-81be-4842-96ef-095c5be1e87c"
      },
      "execution_count": null,
      "outputs": [
        {
          "output_type": "stream",
          "name": "stdout",
          "text": [
            "tensor([ 5.5000,  4.0000, 13.5000])\n",
            "tensor([-0.9000, -1.6000, -2.1000])\n",
            "tensor([ 7.3600,  3.3600, 44.4600])\n",
            "tensor([0.7188, 0.4286, 0.7308])\n"
          ]
        }
      ]
    },
    {
      "cell_type": "code",
      "source": [
        "# slice\n",
        "tensor = torch.rand(5,3)\n",
        "print(tensor)\n",
        "print(tensor[:,1:3])\n",
        "print(tensor[1,1].item())"
      ],
      "metadata": {
        "colab": {
          "base_uri": "https://localhost:8080/"
        },
        "id": "pkiHDLCDWk8F",
        "outputId": "840890f5-8d8d-41a5-a23b-e03b5361e899"
      },
      "execution_count": null,
      "outputs": [
        {
          "output_type": "stream",
          "name": "stdout",
          "text": [
            "tensor([[0.5267, 0.2479, 0.2692],\n",
            "        [0.1152, 0.4911, 0.7869],\n",
            "        [0.9986, 0.3048, 0.3148],\n",
            "        [0.6031, 0.2052, 0.8379],\n",
            "        [0.7379, 0.5874, 0.0590]])\n",
            "tensor([[0.2479, 0.2692],\n",
            "        [0.4911, 0.7869],\n",
            "        [0.3048, 0.3148],\n",
            "        [0.2052, 0.8379],\n",
            "        [0.5874, 0.0590]])\n",
            "0.49110180139541626\n"
          ]
        }
      ]
    },
    {
      "cell_type": "code",
      "source": [
        "# view\n",
        "tensor = torch.rand(2,6)\n",
        "print(tensor)\n",
        "print(tensor.view(3,4))\n",
        "print(tensor.view(12))\n",
        "print(tensor.view(12,1))\n",
        "print(tensor.view(1,12))\n",
        "print(tensor.view(-1,3))"
      ],
      "metadata": {
        "colab": {
          "base_uri": "https://localhost:8080/"
        },
        "id": "QEGIwxRfW5mo",
        "outputId": "3f5fb026-5887-4f2a-836b-49f61935cf6d"
      },
      "execution_count": null,
      "outputs": [
        {
          "output_type": "stream",
          "name": "stdout",
          "text": [
            "tensor([[0.1375, 0.0369, 0.5374, 0.3004, 0.2542, 0.6634],\n",
            "        [0.0347, 0.0234, 0.9734, 0.7682, 0.7682, 0.0929]])\n",
            "tensor([[0.1375, 0.0369, 0.5374, 0.3004],\n",
            "        [0.2542, 0.6634, 0.0347, 0.0234],\n",
            "        [0.9734, 0.7682, 0.7682, 0.0929]])\n",
            "tensor([0.1375, 0.0369, 0.5374, 0.3004, 0.2542, 0.6634, 0.0347, 0.0234, 0.9734,\n",
            "        0.7682, 0.7682, 0.0929])\n",
            "tensor([[0.1375],\n",
            "        [0.0369],\n",
            "        [0.5374],\n",
            "        [0.3004],\n",
            "        [0.2542],\n",
            "        [0.6634],\n",
            "        [0.0347],\n",
            "        [0.0234],\n",
            "        [0.9734],\n",
            "        [0.7682],\n",
            "        [0.7682],\n",
            "        [0.0929]])\n",
            "tensor([[0.1375, 0.0369, 0.5374, 0.3004, 0.2542, 0.6634, 0.0347, 0.0234, 0.9734,\n",
            "         0.7682, 0.7682, 0.0929]])\n",
            "tensor([[0.1375, 0.0369, 0.5374],\n",
            "        [0.3004, 0.2542, 0.6634],\n",
            "        [0.0347, 0.0234, 0.9734],\n",
            "        [0.7682, 0.7682, 0.0929]])\n"
          ]
        }
      ]
    },
    {
      "cell_type": "code",
      "source": [
        ""
      ],
      "metadata": {
        "id": "xaSrXlevXt08"
      },
      "execution_count": null,
      "outputs": []
    }
  ]
}