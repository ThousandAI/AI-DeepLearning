{
  "nbformat": 4,
  "nbformat_minor": 0,
  "metadata": {
    "colab": {
      "name": "transformer.ipynb",
      "provenance": [],
      "authorship_tag": "ABX9TyM3USckyKo3eAVFrup+t3t1",
      "include_colab_link": true
    },
    "kernelspec": {
      "name": "python3",
      "display_name": "Python 3"
    },
    "language_info": {
      "name": "python"
    },
    "accelerator": "GPU",
    "gpuClass": "standard"
  },
  "cells": [
    {
      "cell_type": "markdown",
      "metadata": {
        "id": "view-in-github",
        "colab_type": "text"
      },
      "source": [
        "<a href=\"https://colab.research.google.com/github/ThousandAI/Application-of-AI/blob/main/class09/transformer.ipynb\" target=\"_parent\"><img src=\"https://colab.research.google.com/assets/colab-badge.svg\" alt=\"Open In Colab\"/></a>"
      ]
    },
    {
      "cell_type": "markdown",
      "source": [
        "# **[Transformers Hugging Face](https://huggingface.co/docs/transformers/index)**"
      ],
      "metadata": {
        "id": "rrhlLeLjHvK5"
      }
    },
    {
      "cell_type": "code",
      "source": [
        "!pip install transformers\n",
        "from transformers import pipeline"
      ],
      "metadata": {
        "colab": {
          "base_uri": "https://localhost:8080/"
        },
        "id": "k0NroSvlIOs2",
        "outputId": "f2760a05-fdff-4be7-bf58-6e421b42de18"
      },
      "execution_count": 1,
      "outputs": [
        {
          "output_type": "stream",
          "name": "stdout",
          "text": [
            "Looking in indexes: https://pypi.org/simple, https://us-python.pkg.dev/colab-wheels/public/simple/\n",
            "Requirement already satisfied: transformers in /usr/local/lib/python3.7/dist-packages (4.21.1)\n",
            "Requirement already satisfied: requests in /usr/local/lib/python3.7/dist-packages (from transformers) (2.23.0)\n",
            "Requirement already satisfied: tokenizers!=0.11.3,<0.13,>=0.11.1 in /usr/local/lib/python3.7/dist-packages (from transformers) (0.12.1)\n",
            "Requirement already satisfied: huggingface-hub<1.0,>=0.1.0 in /usr/local/lib/python3.7/dist-packages (from transformers) (0.8.1)\n",
            "Requirement already satisfied: filelock in /usr/local/lib/python3.7/dist-packages (from transformers) (3.7.1)\n",
            "Requirement already satisfied: packaging>=20.0 in /usr/local/lib/python3.7/dist-packages (from transformers) (21.3)\n",
            "Requirement already satisfied: numpy>=1.17 in /usr/local/lib/python3.7/dist-packages (from transformers) (1.21.6)\n",
            "Requirement already satisfied: tqdm>=4.27 in /usr/local/lib/python3.7/dist-packages (from transformers) (4.64.0)\n",
            "Requirement already satisfied: pyyaml>=5.1 in /usr/local/lib/python3.7/dist-packages (from transformers) (6.0)\n",
            "Requirement already satisfied: importlib-metadata in /usr/local/lib/python3.7/dist-packages (from transformers) (4.12.0)\n",
            "Requirement already satisfied: regex!=2019.12.17 in /usr/local/lib/python3.7/dist-packages (from transformers) (2022.6.2)\n",
            "Requirement already satisfied: typing-extensions>=3.7.4.3 in /usr/local/lib/python3.7/dist-packages (from huggingface-hub<1.0,>=0.1.0->transformers) (4.1.1)\n",
            "Requirement already satisfied: pyparsing!=3.0.5,>=2.0.2 in /usr/local/lib/python3.7/dist-packages (from packaging>=20.0->transformers) (3.0.9)\n",
            "Requirement already satisfied: zipp>=0.5 in /usr/local/lib/python3.7/dist-packages (from importlib-metadata->transformers) (3.8.1)\n",
            "Requirement already satisfied: idna<3,>=2.5 in /usr/local/lib/python3.7/dist-packages (from requests->transformers) (2.10)\n",
            "Requirement already satisfied: chardet<4,>=3.0.2 in /usr/local/lib/python3.7/dist-packages (from requests->transformers) (3.0.4)\n",
            "Requirement already satisfied: urllib3!=1.25.0,!=1.25.1,<1.26,>=1.21.1 in /usr/local/lib/python3.7/dist-packages (from requests->transformers) (1.24.3)\n",
            "Requirement already satisfied: certifi>=2017.4.17 in /usr/local/lib/python3.7/dist-packages (from requests->transformers) (2022.6.15)\n"
          ]
        }
      ]
    },
    {
      "cell_type": "markdown",
      "source": [
        "## **Pipeline**"
      ],
      "metadata": {
        "id": "3tysaBOBIKsk"
      }
    },
    {
      "cell_type": "code",
      "execution_count": 2,
      "metadata": {
        "colab": {
          "base_uri": "https://localhost:8080/"
        },
        "id": "FDg-uS1dHqxV",
        "outputId": "31998c61-0449-433f-93be-40daf00f0c2f"
      },
      "outputs": [
        {
          "output_type": "stream",
          "name": "stderr",
          "text": [
            "No model was supplied, defaulted to distilbert-base-uncased-finetuned-sst-2-english and revision af0f99b (https://huggingface.co/distilbert-base-uncased-finetuned-sst-2-english).\n",
            "Using a pipeline without specifying a model name and revision in production is not recommended.\n"
          ]
        }
      ],
      "source": [
        "pipe = pipeline(\"text-classification\")"
      ]
    },
    {
      "cell_type": "code",
      "source": [
        "pipe(\"Even if the AI ​​course is difficult, we still enjoy the course content brought to us by the teacher.\")"
      ],
      "metadata": {
        "colab": {
          "base_uri": "https://localhost:8080/"
        },
        "id": "eGogZb4sKAIP",
        "outputId": "569fda9e-a172-4ade-b412-004ed71bdcd6"
      },
      "execution_count": 3,
      "outputs": [
        {
          "output_type": "execute_result",
          "data": {
            "text/plain": [
              "[{'label': 'POSITIVE', 'score': 0.9997095465660095}]"
            ]
          },
          "metadata": {},
          "execution_count": 3
        }
      ]
    },
    {
      "cell_type": "code",
      "source": [
        "pipe(\"Code is more difficult to understand than other courses.\")"
      ],
      "metadata": {
        "colab": {
          "base_uri": "https://localhost:8080/"
        },
        "id": "5N7ouAPQLuVh",
        "outputId": "d5163825-62a3-40b1-df19-bcc360960076"
      },
      "execution_count": 4,
      "outputs": [
        {
          "output_type": "execute_result",
          "data": {
            "text/plain": [
              "[{'label': 'NEGATIVE', 'score': 0.9992061257362366}]"
            ]
          },
          "metadata": {},
          "execution_count": 4
        }
      ]
    },
    {
      "cell_type": "code",
      "source": [
        "pipe([\"Even if the AI ​​course is difficult, we still enjoy the course content brought to us by the teacher\",\n",
        "      \"Code is more difficult to understand than other courses.\"])"
      ],
      "metadata": {
        "colab": {
          "base_uri": "https://localhost:8080/"
        },
        "id": "-ndldCoMMT8U",
        "outputId": "9b38ff02-7232-488a-a36e-32b486db4908"
      },
      "execution_count": 5,
      "outputs": [
        {
          "output_type": "execute_result",
          "data": {
            "text/plain": [
              "[{'label': 'POSITIVE', 'score': 0.9996920824050903},\n",
              " {'label': 'NEGATIVE', 'score': 0.9992061257362366}]"
            ]
          },
          "metadata": {},
          "execution_count": 5
        }
      ]
    },
    {
      "cell_type": "markdown",
      "source": [
        "## **English Model**"
      ],
      "metadata": {
        "id": "wQ61_87RNAAl"
      }
    },
    {
      "cell_type": "code",
      "source": [
        "english_model_name = \"distilbert-base-uncased-finetuned-sst-2-english\""
      ],
      "metadata": {
        "id": "iP1uP6THMcBK"
      },
      "execution_count": 6,
      "outputs": []
    },
    {
      "cell_type": "code",
      "source": [
        "from transformers import AutoTokenizer"
      ],
      "metadata": {
        "id": "Km5GLhNxNIJG"
      },
      "execution_count": 7,
      "outputs": []
    },
    {
      "cell_type": "code",
      "source": [
        "tokenizer = AutoTokenizer.from_pretrained(pretrained_model_name_or_path=english_model_name)"
      ],
      "metadata": {
        "id": "NO1RB_I7N4lc"
      },
      "execution_count": 8,
      "outputs": []
    },
    {
      "cell_type": "code",
      "source": [
        "tokenizer.tokenize(\"Even if the AI ​​course is difficult, we still enjoy the course content brought to us by the teacher.\")"
      ],
      "metadata": {
        "colab": {
          "base_uri": "https://localhost:8080/"
        },
        "id": "7jZgFl-tOAun",
        "outputId": "c7cc6d72-d3a8-4e61-f11b-0e67aa4203ce"
      },
      "execution_count": 9,
      "outputs": [
        {
          "output_type": "execute_result",
          "data": {
            "text/plain": [
              "['even',\n",
              " 'if',\n",
              " 'the',\n",
              " 'ai',\n",
              " 'course',\n",
              " 'is',\n",
              " 'difficult',\n",
              " ',',\n",
              " 'we',\n",
              " 'still',\n",
              " 'enjoy',\n",
              " 'the',\n",
              " 'course',\n",
              " 'content',\n",
              " 'brought',\n",
              " 'to',\n",
              " 'us',\n",
              " 'by',\n",
              " 'the',\n",
              " 'teacher',\n",
              " '.']"
            ]
          },
          "metadata": {},
          "execution_count": 9
        }
      ]
    },
    {
      "cell_type": "code",
      "source": [
        "tokenizer(\"Even if the AI ​​course is difficult, we still enjoy the course content brought to us by the teacher.\")"
      ],
      "metadata": {
        "colab": {
          "base_uri": "https://localhost:8080/"
        },
        "id": "RYLLyfz9O2Ri",
        "outputId": "9ec66409-36ab-4f60-f6f7-9fc11734d132"
      },
      "execution_count": 10,
      "outputs": [
        {
          "output_type": "execute_result",
          "data": {
            "text/plain": [
              "{'input_ids': [101, 2130, 2065, 1996, 9932, 2607, 2003, 3697, 1010, 2057, 2145, 5959, 1996, 2607, 4180, 2716, 2000, 2149, 2011, 1996, 3836, 1012, 102], 'attention_mask': [1, 1, 1, 1, 1, 1, 1, 1, 1, 1, 1, 1, 1, 1, 1, 1, 1, 1, 1, 1, 1, 1, 1]}"
            ]
          },
          "metadata": {},
          "execution_count": 10
        }
      ]
    },
    {
      "cell_type": "code",
      "source": [
        "X_train = [\"Even if the AI ​​course is difficult, we still enjoy the course content brought to us by the teacher\",\n",
        "           \"Code is more difficult to understand than other courses.\"]\n",
        "\n",
        "batch = tokenizer(X_train, padding=True, truncation=True, max_length=512, return_tensors=\"pt\")\n",
        "print(batch)"
      ],
      "metadata": {
        "colab": {
          "base_uri": "https://localhost:8080/"
        },
        "id": "CGNen3z7PNIS",
        "outputId": "c21bb30d-4c61-4abf-f0c3-7d8b9e541df2"
      },
      "execution_count": 11,
      "outputs": [
        {
          "output_type": "stream",
          "name": "stdout",
          "text": [
            "{'input_ids': tensor([[ 101, 2130, 2065, 1996, 9932, 2607, 2003, 3697, 1010, 2057, 2145, 5959,\n",
            "         1996, 2607, 4180, 2716, 2000, 2149, 2011, 1996, 3836,  102],\n",
            "        [ 101, 3642, 2003, 2062, 3697, 2000, 3305, 2084, 2060, 5352, 1012,  102,\n",
            "            0,    0,    0,    0,    0,    0,    0,    0,    0,    0]]), 'attention_mask': tensor([[1, 1, 1, 1, 1, 1, 1, 1, 1, 1, 1, 1, 1, 1, 1, 1, 1, 1, 1, 1, 1, 1],\n",
            "        [1, 1, 1, 1, 1, 1, 1, 1, 1, 1, 1, 1, 0, 0, 0, 0, 0, 0, 0, 0, 0, 0]])}\n"
          ]
        }
      ]
    },
    {
      "cell_type": "code",
      "source": [
        "from transformers import AutoModelForSequenceClassification\n",
        "import torch\n",
        "import torch.nn as nn\n",
        "import torch.nn.functional as F"
      ],
      "metadata": {
        "id": "_BpPlSQsQptD"
      },
      "execution_count": 12,
      "outputs": []
    },
    {
      "cell_type": "code",
      "source": [
        "english_model = AutoModelForSequenceClassification.from_pretrained(english_model_name)"
      ],
      "metadata": {
        "id": "IRas7VUIQ8oT"
      },
      "execution_count": 13,
      "outputs": []
    },
    {
      "cell_type": "code",
      "source": [
        "with torch.no_grad():\n",
        "  outputs= english_model(**batch)\n",
        "  #outputs= model(**batch, labels=torch.tensor([1, 0]))\n",
        "  print(outputs)\n",
        "  predictions = F.softmax(outputs.logits, dim=1)\n",
        "  print(predictions)\n",
        "  labels = torch.argmax(predictions, dim=1)\n",
        "  print(labels)\n",
        "  labels_mapping = [english_model.config.id2label[label_id] for label_id in labels.tolist()]\n",
        "  print(labels_mapping)"
      ],
      "metadata": {
        "colab": {
          "base_uri": "https://localhost:8080/"
        },
        "id": "koCmHvapRDKb",
        "outputId": "aa3cf7d4-7881-4963-d07d-549cc6a7fdd7"
      },
      "execution_count": 14,
      "outputs": [
        {
          "output_type": "stream",
          "name": "stdout",
          "text": [
            "SequenceClassifierOutput(loss=None, logits=tensor([[-3.9319,  4.1532],\n",
            "        [ 3.9425, -3.1952]]), hidden_states=None, attentions=None)\n",
            "tensor([[3.0798e-04, 9.9969e-01],\n",
            "        [9.9921e-01, 7.9389e-04]])\n",
            "tensor([1, 0])\n",
            "['POSITIVE', 'NEGATIVE']\n"
          ]
        }
      ]
    },
    {
      "cell_type": "markdown",
      "source": [
        "## **Chinese Model**"
      ],
      "metadata": {
        "id": "afUKN87zWX8v"
      }
    },
    {
      "cell_type": "code",
      "source": [
        "chinese_pipe = pipeline('fill-mask', model=\"bert-base-chinese\", tokenizer=\"bert-base-chinese\")"
      ],
      "metadata": {
        "colab": {
          "base_uri": "https://localhost:8080/"
        },
        "id": "K3EM0To9RWuB",
        "outputId": "6d41026c-7e12-4454-8157-55e2ac650072"
      },
      "execution_count": 15,
      "outputs": [
        {
          "output_type": "stream",
          "name": "stderr",
          "text": [
            "Some weights of the model checkpoint at bert-base-chinese were not used when initializing BertForMaskedLM: ['cls.seq_relationship.weight', 'cls.seq_relationship.bias']\n",
            "- This IS expected if you are initializing BertForMaskedLM from the checkpoint of a model trained on another task or with another architecture (e.g. initializing a BertForSequenceClassification model from a BertForPreTraining model).\n",
            "- This IS NOT expected if you are initializing BertForMaskedLM from the checkpoint of a model that you expect to be exactly identical (initializing a BertForSequenceClassification model from a BertForSequenceClassification model).\n"
          ]
        }
      ]
    },
    {
      "cell_type": "code",
      "source": [
        "chinese_pipe(\"這門課雖然很\"+chinese_pipe.tokenizer.mask_token+\"但我還是努力將它完成\")"
      ],
      "metadata": {
        "colab": {
          "base_uri": "https://localhost:8080/"
        },
        "id": "23u7i0oOclCo",
        "outputId": "cc8b0d88-9719-47d3-9467-5b09ead12d03"
      },
      "execution_count": 16,
      "outputs": [
        {
          "output_type": "execute_result",
          "data": {
            "text/plain": [
              "[{'score': 0.48670488595962524,\n",
              "  'sequence': '這 門 課 雖 然 很 難 但 我 還 是 努 力 將 它 完 成',\n",
              "  'token': 7432,\n",
              "  'token_str': '難'},\n",
              " {'score': 0.10295306146144867,\n",
              "  'sequence': '這 門 課 雖 然 很 累 但 我 還 是 努 力 將 它 完 成',\n",
              "  'token': 5168,\n",
              "  'token_str': '累'},\n",
              " {'score': 0.06878484040498734,\n",
              "  'sequence': '這 門 課 雖 然 很 短 但 我 還 是 努 力 將 它 完 成',\n",
              "  'token': 4764,\n",
              "  'token_str': '短'},\n",
              " {'score': 0.05155231058597565,\n",
              "  'sequence': '這 門 課 雖 然 很 苦 但 我 還 是 努 力 將 它 完 成',\n",
              "  'token': 5736,\n",
              "  'token_str': '苦'},\n",
              " {'score': 0.023980475962162018,\n",
              "  'sequence': '這 門 課 雖 然 很 忙 但 我 還 是 努 力 將 它 完 成',\n",
              "  'token': 2564,\n",
              "  'token_str': '忙'}]"
            ]
          },
          "metadata": {},
          "execution_count": 16
        }
      ]
    },
    {
      "cell_type": "code",
      "source": [
        "chinese_pipe(\"今晚訂\"+chinese_pipe.tokenizer.mask_token+\"已經客滿，明天下午還有空位\")"
      ],
      "metadata": {
        "colab": {
          "base_uri": "https://localhost:8080/"
        },
        "id": "ek8Tl5XaWqb5",
        "outputId": "16a08aba-f542-419b-f1fe-3978b2449357"
      },
      "execution_count": 17,
      "outputs": [
        {
          "output_type": "execute_result",
          "data": {
            "text/plain": [
              "[{'score': 0.49522095918655396,\n",
              "  'sequence': '今 晚 訂 位 已 經 客 滿 ， 明 天 下 午 還 有 空 位',\n",
              "  'token': 855,\n",
              "  'token_str': '位'},\n",
              " {'score': 0.37189793586730957,\n",
              "  'sequence': '今 晚 訂 房 已 經 客 滿 ， 明 天 下 午 還 有 空 位',\n",
              "  'token': 2791,\n",
              "  'token_str': '房'},\n",
              " {'score': 0.07200019806623459,\n",
              "  'sequence': '今 晚 訂 單 已 經 客 滿 ， 明 天 下 午 還 有 空 位',\n",
              "  'token': 1606,\n",
              "  'token_str': '單'},\n",
              " {'score': 0.01261210162192583,\n",
              "  'sequence': '今 晚 訂 票 已 經 客 滿 ， 明 天 下 午 還 有 空 位',\n",
              "  'token': 4873,\n",
              "  'token_str': '票'},\n",
              " {'score': 0.011162370443344116,\n",
              "  'sequence': '今 晚 訂 座 已 經 客 滿 ， 明 天 下 午 還 有 空 位',\n",
              "  'token': 2429,\n",
              "  'token_str': '座'}]"
            ]
          },
          "metadata": {},
          "execution_count": 17
        }
      ]
    }
  ]
}